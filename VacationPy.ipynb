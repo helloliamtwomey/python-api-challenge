{
 "cells": [
  {
   "cell_type": "markdown",
   "metadata": {},
   "source": [
    "# VacationPy\n",
    "----\n",
    "\n",
    "#### Note\n",
    "* Keep an eye on your API usage. Use https://developers.google.com/maps/reporting/gmp-reporting as reference for how to monitor your usage and billing.\n",
    "\n",
    "* Instructions have been included for each segment. You do not have to follow them exactly, but they are included to help you think through the steps."
   ]
  },
  {
   "cell_type": "code",
   "execution_count": 1,
   "metadata": {},
   "outputs": [],
   "source": [
    "# Dependencies and Setup\n",
    "import matplotlib.pyplot as plt\n",
    "import pandas as pd\n",
    "import numpy as np\n",
    "import requests\n",
    "import gmaps\n",
    "import os\n",
    "import json\n",
    "from api_keys import g_key"
   ]
  },
  {
   "cell_type": "markdown",
   "metadata": {},
   "source": [
    "### Store Part I results into DataFrame\n",
    "* Load the csv exported in Part I to a DataFrame"
   ]
  },
  {
   "cell_type": "code",
   "execution_count": 2,
   "metadata": {},
   "outputs": [],
   "source": [
    "# Load and clean weather data\n",
    "weather_data_to_load = os.path.join(\"resources\", \"City_Data.csv\")\n",
    "weather_data = pd.read_csv(weather_data_to_load)\n",
    "\n",
    "index_names = weather_data[weather_data['Humidity'] > 100].index\n",
    "clean_weather_data = weather_data.drop(index_names, inplace=False)\n",
    "\n",
    "clean_weather_data.dropna(inplace=True)"
   ]
  },
  {
   "cell_type": "code",
   "execution_count": 3,
   "metadata": {},
   "outputs": [],
   "source": [
    "# Load the csv to a DataFrame\n",
    "weather_data_to_load = os.path.join(\"resources\", \"City_Data.csv\")\n",
    "weather_data = pd.read_csv(weather_data_to_load)\n",
    "\n",
    "#Cleaning weather data by removing data with humidity more than 100\n",
    "index_names = weather_data[ weather_data['Humidity'] > 100 ].index\n",
    "clean_weather_data = weather_data.drop(index_names, inplace = False)\n",
    "\n",
    "#drop na values\n",
    "clean_weather_data.dropna(inplace = True) \n",
    "\n",
    "# Configure gmaps\n",
    "gmaps.configure(api_key=g_key)\n",
    "\n",
    "# Store latitude and longitude in locations\n",
    "locations = clean_weather_data[[\"Lat\", \"Long\"]]\n",
    "\n",
    "# Fill NaN values and convert to float\n",
    "humidity = clean_weather_data[\"Humidity\"].astype(float)"
   ]
  },
  {
   "cell_type": "markdown",
   "metadata": {},
   "source": [
    "### Humidity Heatmap\n",
    "* Configure gmaps.\n",
    "* Use the Lat and Lng as locations and Humidity as the weight.\n",
    "* Add Heatmap layer to map."
   ]
  },
  {
   "cell_type": "code",
   "execution_count": 4,
   "metadata": {},
   "outputs": [],
   "source": [
    "# Plot Heatmap\n",
    "fig = gmaps.figure(center=(20.0, 10.0), zoom_level=1.7)\n",
    "heat_layer = gmaps.heatmap_layer(locations, weights=humidity, dissipating=False, max_intensity=100, point_radius=2.5)\n",
    "fig.add_layer(heat_layer)"
   ]
  },
  {
   "cell_type": "markdown",
   "metadata": {},
   "source": [
    "### Create new DataFrame fitting weather criteria\n",
    "* Narrow down the cities to fit weather conditions.\n",
    "* Drop any rows will null values."
   ]
  },
  {
   "cell_type": "code",
   "execution_count": 5,
   "metadata": {},
   "outputs": [],
   "source": [
    "#Filtering data with temperature > 21 and < 27\n",
    "index_names = clean_weather_data[ (clean_weather_data['Temp'] > 21) & (clean_weather_data['Temp'] < 27)].index\n",
    "fit_weather_data = clean_weather_data.drop(index_names, inplace = False)\n",
    "\n",
    "#Filtering data with wind speed less than 4.5 m/s\n",
    "index_names = fit_weather_data[ fit_weather_data['Wind'] <= 4.5].index\n",
    "fit_weather_data = fit_weather_data.drop(index_names, inplace = False)\n",
    "\n",
    "#Filtering data with zero cloudiness\n",
    "index_names = fit_weather_data[ fit_weather_data['Clouds'] > 0].index\n",
    "fit_weather_data = fit_weather_data.drop(index_names, inplace = False)"
   ]
  },
  {
   "cell_type": "markdown",
   "metadata": {},
   "source": [
    "### Hotel Map\n",
    "* Store into variable named `hotel_df`.\n",
    "* Add a \"Hotel Name\" column to the DataFrame.\n",
    "* Set parameters to search for hotels with 5000 meters.\n",
    "* Hit the Google Places API for each city's coordinates.\n",
    "* Store the first Hotel result into the DataFrame.\n",
    "* Plot markers on top of the heatmap."
   ]
  },
  {
   "cell_type": "code",
   "execution_count": 6,
   "metadata": {},
   "outputs": [
    {
     "name": "stderr",
     "output_type": "stream",
     "text": [
      "/Users/liamtwomey/opt/anaconda3/envs/PythonData/lib/python3.7/site-packages/ipykernel_launcher.py:2: SettingWithCopyWarning: \n",
      "A value is trying to be set on a copy of a slice from a DataFrame.\n",
      "Try using .loc[row_indexer,col_indexer] = value instead\n",
      "\n",
      "See the caveats in the documentation: https://pandas.pydata.org/pandas-docs/stable/user_guide/indexing.html#returning-a-view-versus-a-copy\n",
      "  \n",
      "/Users/liamtwomey/opt/anaconda3/envs/PythonData/lib/python3.7/site-packages/pandas/core/indexing.py:966: SettingWithCopyWarning: \n",
      "A value is trying to be set on a copy of a slice from a DataFrame.\n",
      "Try using .loc[row_indexer,col_indexer] = value instead\n",
      "\n",
      "See the caveats in the documentation: https://pandas.pydata.org/pandas-docs/stable/user_guide/indexing.html#returning-a-view-versus-a-copy\n",
      "  self.obj[item] = s\n"
     ]
    },
    {
     "data": {
      "text/html": [
       "<div>\n",
       "<style scoped>\n",
       "    .dataframe tbody tr th:only-of-type {\n",
       "        vertical-align: middle;\n",
       "    }\n",
       "\n",
       "    .dataframe tbody tr th {\n",
       "        vertical-align: top;\n",
       "    }\n",
       "\n",
       "    .dataframe thead th {\n",
       "        text-align: right;\n",
       "    }\n",
       "</style>\n",
       "<table border=\"1\" class=\"dataframe\">\n",
       "  <thead>\n",
       "    <tr style=\"text-align: right;\">\n",
       "      <th></th>\n",
       "      <th>City</th>\n",
       "      <th>Country</th>\n",
       "      <th>Lat</th>\n",
       "      <th>Long</th>\n",
       "      <th>Humidity</th>\n",
       "      <th>Hotel Name</th>\n",
       "    </tr>\n",
       "  </thead>\n",
       "  <tbody>\n",
       "    <tr>\n",
       "      <th>21</th>\n",
       "      <td>punta arenas</td>\n",
       "      <td>CL</td>\n",
       "      <td>-53.1500</td>\n",
       "      <td>-70.9167</td>\n",
       "      <td>71</td>\n",
       "      <td>Diego De Almagro Punta Arenas</td>\n",
       "    </tr>\n",
       "    <tr>\n",
       "      <th>26</th>\n",
       "      <td>barrow</td>\n",
       "      <td>US</td>\n",
       "      <td>71.2906</td>\n",
       "      <td>-156.7887</td>\n",
       "      <td>77</td>\n",
       "      <td>Top of the World Hotel</td>\n",
       "    </tr>\n",
       "    <tr>\n",
       "      <th>90</th>\n",
       "      <td>constitucion</td>\n",
       "      <td>CL</td>\n",
       "      <td>-35.3333</td>\n",
       "      <td>-72.4167</td>\n",
       "      <td>79</td>\n",
       "      <td>Hotel Nogal</td>\n",
       "    </tr>\n",
       "    <tr>\n",
       "      <th>96</th>\n",
       "      <td>lompoc</td>\n",
       "      <td>US</td>\n",
       "      <td>34.6391</td>\n",
       "      <td>-120.4579</td>\n",
       "      <td>72</td>\n",
       "      <td>O'Cairns Inn &amp; Suites</td>\n",
       "    </tr>\n",
       "    <tr>\n",
       "      <th>138</th>\n",
       "      <td>laguna</td>\n",
       "      <td>US</td>\n",
       "      <td>38.4210</td>\n",
       "      <td>-121.4238</td>\n",
       "      <td>41</td>\n",
       "      <td>Hampton Inn &amp; Suites Sacramento-Elk Grove Lagu...</td>\n",
       "    </tr>\n",
       "    <tr>\n",
       "      <th>176</th>\n",
       "      <td>fortuna</td>\n",
       "      <td>US</td>\n",
       "      <td>40.5982</td>\n",
       "      <td>-124.1573</td>\n",
       "      <td>83</td>\n",
       "      <td>The Redwood Riverwalk</td>\n",
       "    </tr>\n",
       "    <tr>\n",
       "      <th>182</th>\n",
       "      <td>mount abu</td>\n",
       "      <td>IN</td>\n",
       "      <td>24.6000</td>\n",
       "      <td>72.7000</td>\n",
       "      <td>36</td>\n",
       "      <td>Hotel Lake Palace</td>\n",
       "    </tr>\n",
       "    <tr>\n",
       "      <th>191</th>\n",
       "      <td>mandalgovi</td>\n",
       "      <td>MN</td>\n",
       "      <td>45.7625</td>\n",
       "      <td>106.2708</td>\n",
       "      <td>42</td>\n",
       "      <td>Mandal Hotel</td>\n",
       "    </tr>\n",
       "    <tr>\n",
       "      <th>341</th>\n",
       "      <td>neuquen</td>\n",
       "      <td>AR</td>\n",
       "      <td>-38.9516</td>\n",
       "      <td>-68.0591</td>\n",
       "      <td>48</td>\n",
       "      <td>Nandó Apart Hotel</td>\n",
       "    </tr>\n",
       "    <tr>\n",
       "      <th>357</th>\n",
       "      <td>nokha</td>\n",
       "      <td>IN</td>\n",
       "      <td>27.6000</td>\n",
       "      <td>73.4167</td>\n",
       "      <td>38</td>\n",
       "      <td>Hotel D Paradise</td>\n",
       "    </tr>\n",
       "  </tbody>\n",
       "</table>\n",
       "</div>"
      ],
      "text/plain": [
       "             City Country      Lat      Long  Humidity  \\\n",
       "21   punta arenas      CL -53.1500  -70.9167        71   \n",
       "26         barrow      US  71.2906 -156.7887        77   \n",
       "90   constitucion      CL -35.3333  -72.4167        79   \n",
       "96         lompoc      US  34.6391 -120.4579        72   \n",
       "138        laguna      US  38.4210 -121.4238        41   \n",
       "176       fortuna      US  40.5982 -124.1573        83   \n",
       "182     mount abu      IN  24.6000   72.7000        36   \n",
       "191    mandalgovi      MN  45.7625  106.2708        42   \n",
       "341       neuquen      AR -38.9516  -68.0591        48   \n",
       "357         nokha      IN  27.6000   73.4167        38   \n",
       "\n",
       "                                            Hotel Name  \n",
       "21                       Diego De Almagro Punta Arenas  \n",
       "26                              Top of the World Hotel  \n",
       "90                                         Hotel Nogal  \n",
       "96                               O'Cairns Inn & Suites  \n",
       "138  Hampton Inn & Suites Sacramento-Elk Grove Lagu...  \n",
       "176                              The Redwood Riverwalk  \n",
       "182                                  Hotel Lake Palace  \n",
       "191                                       Mandal Hotel  \n",
       "341                                  Nandó Apart Hotel  \n",
       "357                                   Hotel D Paradise  "
      ]
     },
     "execution_count": 6,
     "metadata": {},
     "output_type": "execute_result"
    }
   ],
   "source": [
    "hotel_df = fit_weather_data[['City', 'Country', 'Lat', 'Long', 'Humidity']]\n",
    "hotel_df['Hotel Name'] = ''\n",
    "\n",
    "base_url = \"https://maps.googleapis.com/maps/api/place/nearbysearch/json\"\n",
    "params = {\n",
    "    \"radius\": 10000,\n",
    "    \"keyword\": \"hotel\",\n",
    "    \"type\": \"hotel\",\n",
    "    \"key\": g_key\n",
    "    }\n",
    "# use iterrows to iterate through pandas dataframe\n",
    "for index, row in hotel_df.iterrows():\n",
    "    # get city from df\n",
    "    city = row['City']\n",
    "    params['location'] = f'{row[\"Lat\"]},{row[\"Long\"]}'\n",
    "\n",
    "    # assemble url and make API request\n",
    "    response = requests.get(base_url, params=params).json()\n",
    "    results = response['results']\n",
    "    \n",
    "    try:\n",
    "        hotel_df.loc[index, 'Hotel Name'] = results[0]['name']\n",
    "        \n",
    "    except (KeyError, IndexError):\n",
    "        print(\"na\")\n",
    "hotel_df"
   ]
  },
  {
   "cell_type": "code",
   "execution_count": 7,
   "metadata": {},
   "outputs": [],
   "source": [
    "# NOTE: Do not change any of the code in this cell\n",
    "\n",
    "# Using the template add the hotel marks to the heatmap\n",
    "info_box_template = \"\"\"\n",
    "<dl>\n",
    "<dt>Name</dt><dd>{Hotel Name}</dd>\n",
    "<dt>City</dt><dd>{City}</dd>\n",
    "<dt>Country</dt><dd>{Country}</dd>\n",
    "</dl>\n",
    "\"\"\"\n",
    "# Store the DataFrame Row\n",
    "# NOTE: be sure to update with your DataFrame name\n",
    "hotel_info = [info_box_template.format(**row) for index, row in hotel_df.iterrows()]\n",
    "locations = hotel_df[[\"Lat\", \"Long\"]]"
   ]
  },
  {
   "cell_type": "code",
   "execution_count": 8,
   "metadata": {},
   "outputs": [
    {
     "data": {
      "application/vnd.jupyter.widget-view+json": {
       "model_id": "98daf3233beb431c9b3d2f581e1864d6",
       "version_major": 2,
       "version_minor": 0
      },
      "text/plain": [
       "Figure(layout=FigureLayout(height='420px'))"
      ]
     },
     "metadata": {},
     "output_type": "display_data"
    }
   ],
   "source": [
    "# Add marker layer ontop of heat map\n",
    "marker_layer=gmaps.marker_layer(locations,info_box_content=hotel_info)\n",
    "fig.add_layer(marker_layer)\n",
    "# Display figure\n",
    "fig"
   ]
  }
 ],
 "metadata": {
  "kernelspec": {
   "display_name": "PythonData",
   "language": "python",
   "name": "python3"
  },
  "language_info": {
   "codemirror_mode": {
    "name": "ipython",
    "version": 3
   },
   "file_extension": ".py",
   "mimetype": "text/x-python",
   "name": "python",
   "nbconvert_exporter": "python",
   "pygments_lexer": "ipython3",
   "version": "3.7.7"
  },
  "latex_envs": {
   "LaTeX_envs_menu_present": true,
   "autoclose": false,
   "autocomplete": true,
   "bibliofile": "biblio.bib",
   "cite_by": "apalike",
   "current_citInitial": 1,
   "eqLabelWithNumbers": true,
   "eqNumInitial": 1,
   "hotkeys": {
    "equation": "Ctrl-E",
    "itemize": "Ctrl-I"
   },
   "labels_anchors": false,
   "latex_user_defs": false,
   "report_style_numbering": false,
   "user_envs_cfg": false
  },
  "vscode": {
   "interpreter": {
    "hash": "b6cce24653f235c72fc4508a182a4aa78cc63d76feb097baa8f9f50675ccaa3a"
   }
  }
 },
 "nbformat": 4,
 "nbformat_minor": 4
}
